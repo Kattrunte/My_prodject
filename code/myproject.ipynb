{
 "cells": [
  {
   "cell_type": "code",
   "execution_count": 2,
   "source": [
    "import pandas as pd\n",
    "\n",
    "import numpy as np\n",
    "\n",
    "import matplotlib.pyplot as plt\n",
    "\n",
    "data = pd.read_csv('data/mydata.csv')\n",
    "print(data)"
   ],
   "outputs": [
    {
     "output_type": "stream",
     "name": "stdout",
     "text": [
      "  parameter  experimet\n",
      "0       F_F     16.000\n",
      "1     theta      0.600\n",
      "2     delta      0.960\n",
      "3   weekest      5.800\n",
      "4    lenght      0.080\n",
      "5     pices      8.000\n",
      "6     hight      0.115\n"
     ]
    }
   ],
   "metadata": {
    "scrolled": false
   }
  },
  {
   "cell_type": "code",
   "execution_count": 60,
   "source": [
    "data.__class__"
   ],
   "outputs": [
    {
     "output_type": "execute_result",
     "data": {
      "text/plain": [
       "pandas.core.frame.DataFrame"
      ]
     },
     "metadata": {},
     "execution_count": 60
    }
   ],
   "metadata": {
    "scrolled": true
   }
  },
  {
   "cell_type": "code",
   "execution_count": 3,
   "source": [
    "# Lenghts = L\n",
    "L = data.experimet[4]\n",
    "pices = data.experimet[5]\n",
    "TL = L*pices\n",
    "HL = L*(pices/2)\n",
    "H = data.experimet[6]"
   ],
   "outputs": [],
   "metadata": {}
  },
  {
   "cell_type": "code",
   "execution_count": 4,
   "source": [
    "# Calculation to F_L whit A as turingpoint \n",
    "F_L = (data.experimet[0]*HL)/TL"
   ],
   "outputs": [],
   "metadata": {}
  },
  {
   "cell_type": "code",
   "execution_count": 5,
   "source": [
    "# Calculation to F_A whit L as turingpoint \n",
    "F_A = (data.experimet[0]*HL)/TL"
   ],
   "outputs": [],
   "metadata": {}
  },
  {
   "cell_type": "code",
   "execution_count": 6,
   "source": [
    "# Horisontal forces from expirimet\n",
    "def horizontal (force, nlenght, hight):\n",
    "    return ((force*(L*nlenght))/(hight))"
   ],
   "outputs": [],
   "metadata": {}
  },
  {
   "cell_type": "code",
   "execution_count": 7,
   "source": [
    "# Oppesit forces\n",
    "def oppesit (force):\n",
    "    return (0-force)"
   ],
   "outputs": [],
   "metadata": {}
  },
  {
   "cell_type": "code",
   "execution_count": 8,
   "source": [
    "F_cf = horizontal(F_A, 3, H) "
   ],
   "outputs": [],
   "metadata": {}
  },
  {
   "cell_type": "code",
   "execution_count": 9,
   "source": [
    "F_fc = oppesit(F_cf)"
   ],
   "outputs": [],
   "metadata": {}
  },
  {
   "cell_type": "code",
   "execution_count": 10,
   "source": [
    "F_ac = horizontal(F_A, 1, H) "
   ],
   "outputs": [],
   "metadata": {}
  },
  {
   "cell_type": "code",
   "execution_count": 11,
   "source": [
    "F_ca = oppesit(F_ac)"
   ],
   "outputs": [],
   "metadata": {}
  },
  {
   "cell_type": "code",
   "execution_count": 12,
   "source": [
    "F_eh = horizontal(-F_A, 4, H) "
   ],
   "outputs": [],
   "metadata": {}
  },
  {
   "cell_type": "code",
   "execution_count": 13,
   "source": [
    "F_he = oppesit(F_eh)"
   ],
   "outputs": [],
   "metadata": {}
  },
  {
   "cell_type": "code",
   "execution_count": 14,
   "source": [
    "F_be = horizontal(-F_A, 2, H) "
   ],
   "outputs": [],
   "metadata": {}
  },
  {
   "cell_type": "code",
   "execution_count": 15,
   "source": [
    "F_eb = oppesit(F_be)"
   ],
   "outputs": [],
   "metadata": {}
  },
  {
   "cell_type": "code",
   "execution_count": 16,
   "source": [
    "def tiltet (fforce, forcelenght, sforce, hight, angellenght):\n",
    "    return ((fforce*(forcelenght*L)-sforce*hight)/(angellenght*L)*np.cos(data.experimet[1]))"
   ],
   "outputs": [],
   "metadata": {}
  },
  {
   "cell_type": "code",
   "execution_count": 17,
   "source": [
    "F_ef = tiltet (-F_A, 2, F_eh, H, 2)"
   ],
   "outputs": [],
   "metadata": {}
  },
  {
   "cell_type": "code",
   "execution_count": 18,
   "source": [
    "F_fe = oppesit(F_ef)"
   ],
   "outputs": [],
   "metadata": {}
  },
  {
   "cell_type": "code",
   "execution_count": 19,
   "source": [
    "F_ec = tiltet (F_A, 4, F_eh, H, 2)"
   ],
   "outputs": [],
   "metadata": {}
  },
  {
   "cell_type": "code",
   "execution_count": 20,
   "source": [
    "F_ce = oppesit(F_ec)"
   ],
   "outputs": [],
   "metadata": {}
  },
  {
   "cell_type": "code",
   "execution_count": 21,
   "source": [
    "F_bc = tiltet (0, 0, -F_be, H, 2)"
   ],
   "outputs": [],
   "metadata": {}
  },
  {
   "cell_type": "code",
   "execution_count": 22,
   "source": [
    "F_cb = oppesit(F_bc)"
   ],
   "outputs": [],
   "metadata": {}
  },
  {
   "cell_type": "code",
   "execution_count": 23,
   "source": [
    "def endtiltet (force, nlenght):\n",
    "    return ((force*(nlenght*L))/((nlenght*L)*np.sin(data.experimet[2])))"
   ],
   "outputs": [],
   "metadata": {}
  },
  {
   "cell_type": "code",
   "execution_count": 24,
   "source": [
    "F_ab = endtiltet (-F_A, 2)"
   ],
   "outputs": [],
   "metadata": {}
  },
  {
   "cell_type": "code",
   "execution_count": 25,
   "source": [
    "F_ba = oppesit(F_ab)"
   ],
   "outputs": [],
   "metadata": {}
  },
  {
   "cell_type": "code",
   "execution_count": 26,
   "source": [
    "# Calulantions for experimet\n",
    "print(\"F_L:\", F_L,\"F_A:\", F_A)\n",
    "print(\"F_cf:\", F_cf, \"F_ca:\", F_ca, \"F_eh:\", F_eh, \"F_be:\", F_be)\n",
    "print(\"F_fc:\", F_fc, \"F_ac:\", F_ac, \"F_he:\", F_he,\"F_eb:\", F_eb)\n",
    "print(\"F_ef:\", F_ef, \"F_ec:\", F_ec, \"F_bc:\", F_bc)\n",
    "print(\"F_fe:\", F_fe, \"F_ce:\", F_ce, \"F_cb:\", F_cb)\n",
    "print(\"F_ab:\", F_ab)\n",
    "print(\"F_ba:\", F_ba)"
   ],
   "outputs": [
    {
     "output_type": "stream",
     "name": "stdout",
     "text": [
      "F_L: 8.0 F_A: 8.0\n",
      "F_cf: 16.695652173913043 F_ca: -5.565217391304348 F_eh: -22.26086956521739 F_be: -11.130434782608695\n",
      "F_fc: -16.695652173913043 F_ac: 5.565217391304348 F_he: 22.26086956521739 F_eb: 11.130434782608695\n",
      "F_ef: 6.602684919277427 F_ec: 26.410739677109706 F_bc: -6.602684919277427\n",
      "F_fe: -6.602684919277427 F_ce: -26.410739677109706 F_cb: 6.602684919277427\n",
      "F_ab: -9.765725514719328\n",
      "F_ba: 9.765725514719328\n"
     ]
    }
   ],
   "metadata": {}
  },
  {
   "cell_type": "code",
   "execution_count": 27,
   "source": [
    "# ecuation for den main force\n",
    "F_F = (data.experimet[0])\n",
    "print(F_F)"
   ],
   "outputs": [
    {
     "output_type": "stream",
     "name": "stdout",
     "text": [
      "16.0\n"
     ]
    }
   ],
   "metadata": {}
  },
  {
   "cell_type": "code",
   "execution_count": 28,
   "source": [
    "# Ecuation for the Theoretical force\n",
    "F_Fcal = (data.experimet[3]*2*(np.sin(data.experimet[2])))\n",
    "print(F_Fcal)"
   ],
   "outputs": [
    {
     "output_type": "stream",
     "name": "stdout",
     "text": [
      "9.502622192291579\n"
     ]
    }
   ],
   "metadata": {}
  },
  {
   "cell_type": "code",
   "execution_count": 29,
   "source": [
    "F_Acal = (F_Fcal*HL)/TL"
   ],
   "outputs": [],
   "metadata": {}
  },
  {
   "cell_type": "code",
   "execution_count": 30,
   "source": [
    "F_Lcal = (F_Fcal*HL)/TL"
   ],
   "outputs": [],
   "metadata": {}
  },
  {
   "cell_type": "code",
   "execution_count": 31,
   "source": [
    "F_cfcal = horizontal(F_Acal, 3, H)"
   ],
   "outputs": [],
   "metadata": {}
  },
  {
   "cell_type": "code",
   "execution_count": 32,
   "source": [
    "F_fccal = oppesit(F_cfcal)"
   ],
   "outputs": [],
   "metadata": {}
  },
  {
   "cell_type": "code",
   "execution_count": 33,
   "source": [
    "F_accal = horizontal(F_Acal, 1, H) "
   ],
   "outputs": [],
   "metadata": {}
  },
  {
   "cell_type": "code",
   "execution_count": 34,
   "source": [
    "F_cacal = oppesit(F_accal)"
   ],
   "outputs": [],
   "metadata": {}
  },
  {
   "cell_type": "code",
   "execution_count": 35,
   "source": [
    "F_ehcal = horizontal(-F_Acal, 4, H) "
   ],
   "outputs": [],
   "metadata": {}
  },
  {
   "cell_type": "code",
   "execution_count": 36,
   "source": [
    "F_hecal = oppesit(F_ehcal)"
   ],
   "outputs": [],
   "metadata": {}
  },
  {
   "cell_type": "code",
   "execution_count": 37,
   "source": [
    "F_becal = horizontal(-F_Acal, 2, H) "
   ],
   "outputs": [],
   "metadata": {}
  },
  {
   "cell_type": "code",
   "execution_count": 38,
   "source": [
    "F_ebcal = oppesit(F_becal)"
   ],
   "outputs": [],
   "metadata": {}
  },
  {
   "cell_type": "code",
   "execution_count": 39,
   "source": [
    "F_efcal = tiltet (-F_Acal, 2, F_ehcal, H, 2)"
   ],
   "outputs": [],
   "metadata": {}
  },
  {
   "cell_type": "code",
   "execution_count": 40,
   "source": [
    "F_fecal = oppesit(F_efcal)"
   ],
   "outputs": [],
   "metadata": {}
  },
  {
   "cell_type": "code",
   "execution_count": 41,
   "source": [
    "F_eccal = tiltet (F_Acal, 4, F_ehcal, H, 2)"
   ],
   "outputs": [],
   "metadata": {}
  },
  {
   "cell_type": "code",
   "execution_count": 42,
   "source": [
    "F_cecal = oppesit(F_eccal)"
   ],
   "outputs": [],
   "metadata": {}
  },
  {
   "cell_type": "code",
   "execution_count": 43,
   "source": [
    "F_bccal = tiltet (0, 0, -F_becal, H, 2)"
   ],
   "outputs": [],
   "metadata": {}
  },
  {
   "cell_type": "code",
   "execution_count": 44,
   "source": [
    "F_cbcal = oppesit(F_bccal)"
   ],
   "outputs": [],
   "metadata": {}
  },
  {
   "cell_type": "code",
   "execution_count": 45,
   "source": [
    "F_abcal = endtiltet (-F_Acal, 2)"
   ],
   "outputs": [],
   "metadata": {}
  },
  {
   "cell_type": "code",
   "execution_count": 46,
   "source": [
    "F_bacal = oppesit(F_abcal)"
   ],
   "outputs": [],
   "metadata": {}
  },
  {
   "cell_type": "code",
   "execution_count": 47,
   "source": [
    "# Calulantions for theory\n",
    "print(\"F_Lcal:\", F_Lcal,\"F_Acal:\", F_Acal)\n",
    "print(\"F_cfcal:\", F_cfcal, \"F_cacal:\", F_cacal, \"F_ehcal:\", F_ehcal, \"F_becal:\", F_becal)\n",
    "print(\"F_fccal:\", F_fccal, \"F_accal:\", F_accal, \"F_hecal:\", F_hecal,\"F_ebcal:\", F_ebcal)\n",
    "print(\"F_efcal:\", F_efcal, \"F_eccal:\", F_eccal, \"F_bccal:\", F_bccal)\n",
    "print(\"F_fecal:\", F_fecal, \"F_cecal:\", F_cecal, \"F_cbcal:\", F_cbcal)\n",
    "print(\"F_abcal:\", F_abcal)\n",
    "print(\"F_bacal:\", F_bacal)"
   ],
   "outputs": [
    {
     "output_type": "stream",
     "name": "stdout",
     "text": [
      "F_Lcal: 4.751311096145789 F_Acal: 4.751311096145789\n",
      "F_cfcal: 9.915779678912951 F_cacal: -3.3052598929709838 F_ehcal: -13.221039571883935 F_becal: -6.6105197859419675\n",
      "F_fccal: -9.915779678912951 F_accal: 3.3052598929709838 F_hecal: 13.221039571883935 F_ebcal: 6.6105197859419675\n",
      "F_efcal: 3.921426265164663 F_eccal: 15.685705060658652 F_bccal: -3.921426265164663\n",
      "F_fecal: -3.921426265164663 F_cecal: -15.685705060658652 F_cbcal: 3.921426265164663\n",
      "F_abcal: -5.8\n",
      "F_bacal: 5.8\n"
     ]
    }
   ],
   "metadata": {
    "scrolled": true
   }
  },
  {
   "cell_type": "code",
   "execution_count": 48,
   "source": [
    "Expirimenteforceslist = [F_F, F_L, F_A, F_cf, F_fc, F_ca, F_ac, F_eh, F_he, F_be, F_eb, F_ef, F_fe, F_ec, F_ce, F_bc, F_cb, F_ab, F_ba]"
   ],
   "outputs": [],
   "metadata": {}
  },
  {
   "cell_type": "code",
   "execution_count": 49,
   "source": [
    "Theoryforceslist = [F_Fcal, F_Lcal, F_Acal, F_cfcal, F_fccal, F_cacal, F_accal, F_ehcal, F_hecal, F_becal, F_ebcal, F_efcal, F_fecal, F_eccal, F_cecal, F_bccal, F_cbcal, F_abcal, F_bacal]"
   ],
   "outputs": [],
   "metadata": {}
  },
  {
   "cell_type": "code",
   "execution_count": 50,
   "source": [
    "data = pd.DataFrame(list(zip(Expirimenteforceslist,Theoryforceslist)),columns=[\"Expiriment\",\"Theory\"])"
   ],
   "outputs": [],
   "metadata": {}
  },
  {
   "cell_type": "code",
   "execution_count": 51,
   "source": [
    "transposedata = data.transpose()"
   ],
   "outputs": [],
   "metadata": {}
  },
  {
   "cell_type": "code",
   "execution_count": 52,
   "source": [
    "data.transpose()"
   ],
   "outputs": [
    {
     "output_type": "execute_result",
     "data": {
      "text/html": [
       "<div>\n",
       "<style scoped>\n",
       "    .dataframe tbody tr th:only-of-type {\n",
       "        vertical-align: middle;\n",
       "    }\n",
       "\n",
       "    .dataframe tbody tr th {\n",
       "        vertical-align: top;\n",
       "    }\n",
       "\n",
       "    .dataframe thead th {\n",
       "        text-align: right;\n",
       "    }\n",
       "</style>\n",
       "<table border=\"1\" class=\"dataframe\">\n",
       "  <thead>\n",
       "    <tr style=\"text-align: right;\">\n",
       "      <th></th>\n",
       "      <th>0</th>\n",
       "      <th>1</th>\n",
       "      <th>2</th>\n",
       "      <th>3</th>\n",
       "      <th>4</th>\n",
       "      <th>5</th>\n",
       "      <th>6</th>\n",
       "      <th>7</th>\n",
       "      <th>8</th>\n",
       "      <th>9</th>\n",
       "      <th>10</th>\n",
       "      <th>11</th>\n",
       "      <th>12</th>\n",
       "      <th>13</th>\n",
       "      <th>14</th>\n",
       "      <th>15</th>\n",
       "      <th>16</th>\n",
       "      <th>17</th>\n",
       "      <th>18</th>\n",
       "    </tr>\n",
       "  </thead>\n",
       "  <tbody>\n",
       "    <tr>\n",
       "      <th>Expiriment</th>\n",
       "      <td>16.000000</td>\n",
       "      <td>8.000000</td>\n",
       "      <td>8.000000</td>\n",
       "      <td>16.695652</td>\n",
       "      <td>-16.695652</td>\n",
       "      <td>-5.565217</td>\n",
       "      <td>5.565217</td>\n",
       "      <td>-22.26087</td>\n",
       "      <td>22.26087</td>\n",
       "      <td>-11.130435</td>\n",
       "      <td>11.130435</td>\n",
       "      <td>6.602685</td>\n",
       "      <td>-6.602685</td>\n",
       "      <td>26.410740</td>\n",
       "      <td>-26.410740</td>\n",
       "      <td>-6.602685</td>\n",
       "      <td>6.602685</td>\n",
       "      <td>-9.765726</td>\n",
       "      <td>9.765726</td>\n",
       "    </tr>\n",
       "    <tr>\n",
       "      <th>Theory</th>\n",
       "      <td>9.502622</td>\n",
       "      <td>4.751311</td>\n",
       "      <td>4.751311</td>\n",
       "      <td>9.915780</td>\n",
       "      <td>-9.915780</td>\n",
       "      <td>-3.305260</td>\n",
       "      <td>3.305260</td>\n",
       "      <td>-13.22104</td>\n",
       "      <td>13.22104</td>\n",
       "      <td>-6.610520</td>\n",
       "      <td>6.610520</td>\n",
       "      <td>3.921426</td>\n",
       "      <td>-3.921426</td>\n",
       "      <td>15.685705</td>\n",
       "      <td>-15.685705</td>\n",
       "      <td>-3.921426</td>\n",
       "      <td>3.921426</td>\n",
       "      <td>-5.800000</td>\n",
       "      <td>5.800000</td>\n",
       "    </tr>\n",
       "  </tbody>\n",
       "</table>\n",
       "</div>"
      ],
      "text/plain": [
       "                   0         1         2          3          4         5   \\\n",
       "Expiriment  16.000000  8.000000  8.000000  16.695652 -16.695652 -5.565217   \n",
       "Theory       9.502622  4.751311  4.751311   9.915780  -9.915780 -3.305260   \n",
       "\n",
       "                  6         7         8          9          10        11  \\\n",
       "Expiriment  5.565217 -22.26087  22.26087 -11.130435  11.130435  6.602685   \n",
       "Theory      3.305260 -13.22104  13.22104  -6.610520   6.610520  3.921426   \n",
       "\n",
       "                  12         13         14        15        16        17  \\\n",
       "Expiriment -6.602685  26.410740 -26.410740 -6.602685  6.602685 -9.765726   \n",
       "Theory     -3.921426  15.685705 -15.685705 -3.921426  3.921426 -5.800000   \n",
       "\n",
       "                  18  \n",
       "Expiriment  9.765726  \n",
       "Theory      5.800000  "
      ]
     },
     "metadata": {},
     "execution_count": 52
    }
   ],
   "metadata": {}
  },
  {
   "cell_type": "code",
   "execution_count": 53,
   "source": [
    "plt.style.use('ggplot')\n",
    "transposedata.T.plot(kind='bar')\n",
    "plt.ylabel('Forces')\n",
    "plt.savefig(\"plot.png\")"
   ],
   "outputs": [
    {
     "output_type": "display_data",
     "data": {
      "image/png": "[encoded data removed]",
      "text/plain": [
       "<Figure size 432x288 with 1 Axes>"
      ]
     },
     "metadata": {}
    }
   ],
   "metadata": {}
  }
 ],
 "metadata": {
  "kernelspec": {
   "display_name": "Python 3",
   "language": "python",
   "name": "python3"
  },
  "language_info": {
   "codemirror_mode": {
    "name": "ipython",
    "version": 3
   },
   "file_extension": ".py",
   "mimetype": "text/x-python",
   "name": "python",
   "nbconvert_exporter": "python",
   "pygments_lexer": "ipython3",
   "version": "3.8.8"
  }
 },
 "nbformat": 4,
 "nbformat_minor": 5
}