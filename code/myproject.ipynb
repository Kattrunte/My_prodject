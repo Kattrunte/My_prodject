{
 "cells": [
  {
   "cell_type": "code",
   "execution_count": 50,
   "id": "d5add2ff",
   "metadata": {
    "scrolled": true
   },
   "outputs": [
    {
     "name": "stdout",
     "output_type": "stream",
     "text": [
      "  parameter  experimet\n",
      "0       F_F      16.00\n",
      "1     theta       0.60\n",
      "2     delta       0.96\n",
      "3   weekest       5.80\n"
     ]
    }
   ],
   "source": [
    "import pandas as pd\n",
    "\n",
    "import numpy as np\n",
    "\n",
    "import matplotlib.pyplot as plt\n",
    "\n",
    "data = pd.read_csv('../data/mydata.txt')\n",
    "print(data)"
   ]
  },
  {
   "cell_type": "code",
   "execution_count": 98,
   "id": "9ca687e6",
   "metadata": {},
   "outputs": [
    {
     "data": {
      "text/plain": [
       "pandas.core.frame.DataFrame"
      ]
     },
     "execution_count": 98,
     "metadata": {},
     "output_type": "execute_result"
    }
   ],
   "source": [
    "data.__class__"
   ]
  },
  {
   "cell_type": "code",
   "execution_count": 51,
   "id": "39242712",
   "metadata": {},
   "outputs": [],
   "source": [
    "# Lenghts = L\n",
    "L = 0.08\n",
    "pices = 8\n",
    "TL = L*pices\n",
    "HL = L*(pices/2)\n",
    "H = 0.115"
   ]
  },
  {
   "cell_type": "code",
   "execution_count": 52,
   "id": "30f2842a",
   "metadata": {},
   "outputs": [],
   "source": [
    "# Calculation to F_L whit A as turingpoint \n",
    "F_L = (data.experimet[0]*HL)/TL"
   ]
  },
  {
   "cell_type": "code",
   "execution_count": 53,
   "id": "8e7a42ae",
   "metadata": {},
   "outputs": [],
   "source": [
    "# Calculation to F_A whit L as turingpoint \n",
    "F_A = (data.experimet[0]*HL)/TL"
   ]
  },
  {
   "cell_type": "code",
   "execution_count": 54,
   "id": "c17483aa",
   "metadata": {},
   "outputs": [],
   "source": [
    "# Horisontal forces from expirimet\n",
    "def horizontal (force, nlenght, hight):\n",
    "    return ((force*(L*nlenght))/(hight))"
   ]
  },
  {
   "cell_type": "code",
   "execution_count": 55,
   "id": "2b6f5e46",
   "metadata": {},
   "outputs": [],
   "source": [
    "# Oppesit forces\n",
    "def oppesit (force):\n",
    "    return (0-force)"
   ]
  },
  {
   "cell_type": "code",
   "execution_count": 56,
   "id": "d6df6022",
   "metadata": {},
   "outputs": [],
   "source": [
    "F_cf = horizontal(F_A, 3, H) "
   ]
  },
  {
   "cell_type": "code",
   "execution_count": 57,
   "id": "4c4a4414",
   "metadata": {},
   "outputs": [],
   "source": [
    "F_fc = oppesit(F_cf)"
   ]
  },
  {
   "cell_type": "code",
   "execution_count": 58,
   "id": "c5c524aa",
   "metadata": {},
   "outputs": [],
   "source": [
    "F_ac = horizontal(F_A, 1, H) "
   ]
  },
  {
   "cell_type": "code",
   "execution_count": 59,
   "id": "2f039770",
   "metadata": {},
   "outputs": [],
   "source": [
    "F_ca = oppesit(F_ac)"
   ]
  },
  {
   "cell_type": "code",
   "execution_count": 60,
   "id": "9cf35608",
   "metadata": {},
   "outputs": [],
   "source": [
    "F_eh = horizontal(-F_A, 4, H) "
   ]
  },
  {
   "cell_type": "code",
   "execution_count": 61,
   "id": "574a9537",
   "metadata": {},
   "outputs": [],
   "source": [
    "F_he = oppesit(F_eh)"
   ]
  },
  {
   "cell_type": "code",
   "execution_count": 62,
   "id": "788a4f34",
   "metadata": {},
   "outputs": [],
   "source": [
    "F_be = horizontal(-F_A, 2, H) "
   ]
  },
  {
   "cell_type": "code",
   "execution_count": 63,
   "id": "e6111905",
   "metadata": {},
   "outputs": [],
   "source": [
    "F_eb = oppesit(F_be)"
   ]
  },
  {
   "cell_type": "code",
   "execution_count": 64,
   "id": "0cf61613",
   "metadata": {},
   "outputs": [],
   "source": [
    "def tiltet (fforce, forcelenght, sforce, hight, angellenght):\n",
    "    return ((fforce*(forcelenght*L)-sforce*hight)/(angellenght*L)*np.cos(data.experimet[1]))"
   ]
  },
  {
   "cell_type": "code",
   "execution_count": 65,
   "id": "ba363066",
   "metadata": {},
   "outputs": [],
   "source": [
    "F_ef = tiltet (-F_A, 2, F_eh, H, 2)"
   ]
  },
  {
   "cell_type": "code",
   "execution_count": 66,
   "id": "00224c6b",
   "metadata": {},
   "outputs": [],
   "source": [
    "F_fe = oppesit(F_ef)"
   ]
  },
  {
   "cell_type": "code",
   "execution_count": 67,
   "id": "2073ad0a",
   "metadata": {},
   "outputs": [],
   "source": [
    "F_ec = tiltet (F_A, 4, F_eh, H, 2)"
   ]
  },
  {
   "cell_type": "code",
   "execution_count": 68,
   "id": "e4f0ed52",
   "metadata": {},
   "outputs": [],
   "source": [
    "F_ce = oppesit(F_ec)"
   ]
  },
  {
   "cell_type": "code",
   "execution_count": 69,
   "id": "a12bac0c",
   "metadata": {},
   "outputs": [],
   "source": [
    "F_bc = tiltet (0, 0, -F_be, H, 2)"
   ]
  },
  {
   "cell_type": "code",
   "execution_count": 70,
   "id": "914b3572",
   "metadata": {},
   "outputs": [],
   "source": [
    "F_cb = oppesit(F_bc)"
   ]
  },
  {
   "cell_type": "code",
   "execution_count": 71,
   "id": "b24af2f6",
   "metadata": {},
   "outputs": [],
   "source": [
    "def endtiltet (force, nlenght):\n",
    "    return ((force*(nlenght*L))/((nlenght*L)*np.sin(data.experimet[2])))"
   ]
  },
  {
   "cell_type": "code",
   "execution_count": 72,
   "id": "8b6dfe9c",
   "metadata": {},
   "outputs": [],
   "source": [
    "F_ab = endtiltet (-F_A, 2)"
   ]
  },
  {
   "cell_type": "code",
   "execution_count": 73,
   "id": "b0797feb",
   "metadata": {},
   "outputs": [],
   "source": [
    "F_ba = oppesit(F_ab)"
   ]
  },
  {
   "cell_type": "code",
   "execution_count": 74,
   "id": "4131c887",
   "metadata": {},
   "outputs": [
    {
     "name": "stdout",
     "output_type": "stream",
     "text": [
      "F_L: 8.0 F_A: 8.0\n",
      "F_cf: 16.695652173913043 F_ca: -5.565217391304348 F_eh: -22.26086956521739 F_be: -11.130434782608695\n",
      "F_fc: -16.695652173913043 F_ac: 5.565217391304348 F_he: 22.26086956521739 F_eb: 11.130434782608695\n",
      "F_ef: 6.602684919277427 F_ec: 26.410739677109706 F_bc: -6.602684919277427\n",
      "F_fe: -6.602684919277427 F_ce: -26.410739677109706 F_cb: 6.602684919277427\n",
      "F_ab: -9.765725514719328\n",
      "F_ba: 9.765725514719328\n"
     ]
    }
   ],
   "source": [
    "# Calulantions for experimet\n",
    "print(\"F_L:\", F_L,\"F_A:\", F_A)\n",
    "print(\"F_cf:\", F_cf, \"F_ca:\", F_ca, \"F_eh:\", F_eh, \"F_be:\", F_be)\n",
    "print(\"F_fc:\", F_fc, \"F_ac:\", F_ac, \"F_he:\", F_he,\"F_eb:\", F_eb)\n",
    "print(\"F_ef:\", F_ef, \"F_ec:\", F_ec, \"F_bc:\", F_bc)\n",
    "print(\"F_fe:\", F_fe, \"F_ce:\", F_ce, \"F_cb:\", F_cb)\n",
    "print(\"F_ab:\", F_ab)\n",
    "print(\"F_ba:\", F_ba)"
   ]
  },
  {
   "cell_type": "code",
   "execution_count": 99,
   "id": "4fd922c4",
   "metadata": {},
   "outputs": [
    {
     "name": "stdout",
     "output_type": "stream",
     "text": [
      "16.0\n"
     ]
    }
   ],
   "source": [
    "# ecuation for den main force\n",
    "F_F = (data.experimet[0])\n",
    "print(F_F)"
   ]
  },
  {
   "cell_type": "code",
   "execution_count": 76,
   "id": "dba26c3f",
   "metadata": {},
   "outputs": [
    {
     "name": "stdout",
     "output_type": "stream",
     "text": [
      "9.502622192291579\n"
     ]
    }
   ],
   "source": [
    "# Ecuation for the Theoretical force\n",
    "F_Fcal = (data.experimet[3]*2*(np.sin(data.experimet[2])))\n",
    "print(F_Fcal)"
   ]
  },
  {
   "cell_type": "code",
   "execution_count": 77,
   "id": "d1b23a48",
   "metadata": {},
   "outputs": [],
   "source": [
    "F_Acal = (F_Fcal*HL)/TL"
   ]
  },
  {
   "cell_type": "code",
   "execution_count": 78,
   "id": "b5653594",
   "metadata": {},
   "outputs": [],
   "source": [
    "F_Lcal = (F_Fcal*HL)/TL"
   ]
  },
  {
   "cell_type": "code",
   "execution_count": 79,
   "id": "343887e9",
   "metadata": {},
   "outputs": [],
   "source": [
    "F_cfcal = horizontal(F_Acal, 3, H)"
   ]
  },
  {
   "cell_type": "code",
   "execution_count": 80,
   "id": "481fb365",
   "metadata": {},
   "outputs": [],
   "source": [
    "F_fccal = oppesit(F_cfcal)"
   ]
  },
  {
   "cell_type": "code",
   "execution_count": 81,
   "id": "051eee42",
   "metadata": {},
   "outputs": [],
   "source": [
    "F_accal = horizontal(F_Acal, 1, H) "
   ]
  },
  {
   "cell_type": "code",
   "execution_count": 82,
   "id": "51ddf06b",
   "metadata": {},
   "outputs": [],
   "source": [
    "F_cacal = oppesit(F_accal)"
   ]
  },
  {
   "cell_type": "code",
   "execution_count": 83,
   "id": "bc202bd2",
   "metadata": {},
   "outputs": [],
   "source": [
    "F_ehcal = horizontal(-F_Acal, 4, H) "
   ]
  },
  {
   "cell_type": "code",
   "execution_count": 84,
   "id": "69450f88",
   "metadata": {},
   "outputs": [],
   "source": [
    "F_hecal = oppesit(F_ehcal)"
   ]
  },
  {
   "cell_type": "code",
   "execution_count": 85,
   "id": "11ee479c",
   "metadata": {},
   "outputs": [],
   "source": [
    "F_becal = horizontal(-F_Acal, 2, H) "
   ]
  },
  {
   "cell_type": "code",
   "execution_count": 86,
   "id": "397a8b51",
   "metadata": {},
   "outputs": [],
   "source": [
    "F_ebcal = oppesit(F_becal)"
   ]
  },
  {
   "cell_type": "code",
   "execution_count": 87,
   "id": "8037cde0",
   "metadata": {},
   "outputs": [],
   "source": [
    "F_efcal = tiltet (-F_Acal, 2, F_ehcal, H, 2)"
   ]
  },
  {
   "cell_type": "code",
   "execution_count": 88,
   "id": "a2d34d0a",
   "metadata": {},
   "outputs": [],
   "source": [
    "F_fecal = oppesit(F_efcal)"
   ]
  },
  {
   "cell_type": "code",
   "execution_count": 89,
   "id": "6ea42f7e",
   "metadata": {},
   "outputs": [],
   "source": [
    "F_eccal = tiltet (F_Acal, 4, F_ehcal, H, 2)"
   ]
  },
  {
   "cell_type": "code",
   "execution_count": 90,
   "id": "53fc3795",
   "metadata": {},
   "outputs": [],
   "source": [
    "F_cecal = oppesit(F_eccal)"
   ]
  },
  {
   "cell_type": "code",
   "execution_count": 91,
   "id": "3701958e",
   "metadata": {},
   "outputs": [],
   "source": [
    "F_bccal = tiltet (0, 0, -F_becal, H, 2)"
   ]
  },
  {
   "cell_type": "code",
   "execution_count": 92,
   "id": "3f5d9ac1",
   "metadata": {},
   "outputs": [],
   "source": [
    "F_cbcal = oppesit(F_bccal)"
   ]
  },
  {
   "cell_type": "code",
   "execution_count": 93,
   "id": "ed44f0f5",
   "metadata": {},
   "outputs": [],
   "source": [
    "F_abcal = endtiltet (-F_Acal, 2)"
   ]
  },
  {
   "cell_type": "code",
   "execution_count": 94,
   "id": "49ccb1ab",
   "metadata": {},
   "outputs": [],
   "source": [
    "F_bacal = oppesit(F_abcal)"
   ]
  },
  {
   "cell_type": "code",
   "execution_count": 95,
   "id": "de784699",
   "metadata": {
    "scrolled": true
   },
   "outputs": [
    {
     "name": "stdout",
     "output_type": "stream",
     "text": [
      "F_Lcal: 4.751311096145789 F_Acal: 4.751311096145789\n",
      "F_cfcal: 9.915779678912951 F_cacal: -3.3052598929709838 F_ehcal: -13.221039571883935 F_becal: -6.6105197859419675\n",
      "F_fccal: -9.915779678912951 F_accal: 3.3052598929709838 F_hecal: 13.221039571883935 F_ebcal: 6.6105197859419675\n",
      "F_efcal: 3.921426265164663 F_eccal: 15.685705060658652 F_bccal: -3.921426265164663\n",
      "F_fecal: -3.921426265164663 F_cecal: -15.685705060658652 F_cbcal: 3.921426265164663\n",
      "F_abcal: -5.8\n",
      "F_bacal: 5.8\n"
     ]
    }
   ],
   "source": [
    "# Calulantions for theory\n",
    "print(\"F_Lcal:\", F_Lcal,\"F_Acal:\", F_Acal)\n",
    "print(\"F_cfcal:\", F_cfcal, \"F_cacal:\", F_cacal, \"F_ehcal:\", F_ehcal, \"F_becal:\", F_becal)\n",
    "print(\"F_fccal:\", F_fccal, \"F_accal:\", F_accal, \"F_hecal:\", F_hecal,\"F_ebcal:\", F_ebcal)\n",
    "print(\"F_efcal:\", F_efcal, \"F_eccal:\", F_eccal, \"F_bccal:\", F_bccal)\n",
    "print(\"F_fecal:\", F_fecal, \"F_cecal:\", F_cecal, \"F_cbcal:\", F_cbcal)\n",
    "print(\"F_abcal:\", F_abcal)\n",
    "print(\"F_bacal:\", F_bacal)"
   ]
  },
  {
   "cell_type": "code",
   "execution_count": 101,
   "id": "6c22506f",
   "metadata": {},
   "outputs": [],
   "source": [
    "Expirimenteforceslist = [F_F, F_L, F_A, F_cf, F_fc, F_ca, F_ac, F_eh, F_he, F_be, F_eb, F_ef, F_fe, F_ec, F_ce, F_bc, F_cb, F_ab, F_ba]"
   ]
  },
  {
   "cell_type": "code",
   "execution_count": 102,
   "id": "5caa9e77",
   "metadata": {},
   "outputs": [],
   "source": [
    "Theoryforceslist = [F_Fcal, F_Lcal, F_Acal, F_cfcal, F_fccal, F_cacal, F_accal, F_ehcal, F_hecal, F_becal, F_ebcal, F_efcal, F_fecal, F_eccal, F_cecal, F_bccal, F_cbcal, F_abcal, F_bacal]"
   ]
  },
  {
   "cell_type": "code",
   "execution_count": 125,
   "id": "0cfece6b",
   "metadata": {},
   "outputs": [],
   "source": [
    "data = pd.DataFrame(list(zip(Expirimenteforceslist,Theoryforceslist)),columns=[\"Expiriment\",\"Theory\"])"
   ]
  },
  {
   "cell_type": "code",
   "execution_count": 131,
   "id": "99d43aaa",
   "metadata": {},
   "outputs": [],
   "source": [
    "transposedata = data.transpose()"
   ]
  },
  {
   "cell_type": "code",
   "execution_count": 134,
   "id": "3862e6cb",
   "metadata": {},
   "outputs": [
    {
     "data": {
      "text/html": [
       "<div>\n",
       "<style scoped>\n",
       "    .dataframe tbody tr th:only-of-type {\n",
       "        vertical-align: middle;\n",
       "    }\n",
       "\n",
       "    .dataframe tbody tr th {\n",
       "        vertical-align: top;\n",
       "    }\n",
       "\n",
       "    .dataframe thead th {\n",
       "        text-align: right;\n",
       "    }\n",
       "</style>\n",
       "<table border=\"1\" class=\"dataframe\">\n",
       "  <thead>\n",
       "    <tr style=\"text-align: right;\">\n",
       "      <th></th>\n",
       "      <th>0</th>\n",
       "      <th>1</th>\n",
       "      <th>2</th>\n",
       "      <th>3</th>\n",
       "      <th>4</th>\n",
       "      <th>5</th>\n",
       "      <th>6</th>\n",
       "      <th>7</th>\n",
       "      <th>8</th>\n",
       "      <th>9</th>\n",
       "      <th>10</th>\n",
       "      <th>11</th>\n",
       "      <th>12</th>\n",
       "      <th>13</th>\n",
       "      <th>14</th>\n",
       "      <th>15</th>\n",
       "      <th>16</th>\n",
       "      <th>17</th>\n",
       "      <th>18</th>\n",
       "    </tr>\n",
       "  </thead>\n",
       "  <tbody>\n",
       "    <tr>\n",
       "      <th>Expiriment</th>\n",
       "      <td>16.000000</td>\n",
       "      <td>8.000000</td>\n",
       "      <td>8.000000</td>\n",
       "      <td>16.695652</td>\n",
       "      <td>-16.695652</td>\n",
       "      <td>-5.565217</td>\n",
       "      <td>5.565217</td>\n",
       "      <td>-22.26087</td>\n",
       "      <td>22.26087</td>\n",
       "      <td>-11.130435</td>\n",
       "      <td>11.130435</td>\n",
       "      <td>6.602685</td>\n",
       "      <td>-6.602685</td>\n",
       "      <td>26.410740</td>\n",
       "      <td>-26.410740</td>\n",
       "      <td>-6.602685</td>\n",
       "      <td>6.602685</td>\n",
       "      <td>-9.765726</td>\n",
       "      <td>9.765726</td>\n",
       "    </tr>\n",
       "    <tr>\n",
       "      <th>Theory</th>\n",
       "      <td>9.502622</td>\n",
       "      <td>4.751311</td>\n",
       "      <td>4.751311</td>\n",
       "      <td>9.915780</td>\n",
       "      <td>-9.915780</td>\n",
       "      <td>-3.305260</td>\n",
       "      <td>3.305260</td>\n",
       "      <td>-13.22104</td>\n",
       "      <td>13.22104</td>\n",
       "      <td>-6.610520</td>\n",
       "      <td>6.610520</td>\n",
       "      <td>3.921426</td>\n",
       "      <td>-3.921426</td>\n",
       "      <td>15.685705</td>\n",
       "      <td>-15.685705</td>\n",
       "      <td>-3.921426</td>\n",
       "      <td>3.921426</td>\n",
       "      <td>-5.800000</td>\n",
       "      <td>5.800000</td>\n",
       "    </tr>\n",
       "  </tbody>\n",
       "</table>\n",
       "</div>"
      ],
      "text/plain": [
       "                   0         1         2          3          4         5   \\\n",
       "Expiriment  16.000000  8.000000  8.000000  16.695652 -16.695652 -5.565217   \n",
       "Theory       9.502622  4.751311  4.751311   9.915780  -9.915780 -3.305260   \n",
       "\n",
       "                  6         7         8          9          10        11  \\\n",
       "Expiriment  5.565217 -22.26087  22.26087 -11.130435  11.130435  6.602685   \n",
       "Theory      3.305260 -13.22104  13.22104  -6.610520   6.610520  3.921426   \n",
       "\n",
       "                  12         13         14        15        16        17  \\\n",
       "Expiriment -6.602685  26.410740 -26.410740 -6.602685  6.602685 -9.765726   \n",
       "Theory     -3.921426  15.685705 -15.685705 -3.921426  3.921426 -5.800000   \n",
       "\n",
       "                  18  \n",
       "Expiriment  9.765726  \n",
       "Theory      5.800000  "
      ]
     },
     "execution_count": 134,
     "metadata": {},
     "output_type": "execute_result"
    }
   ],
   "source": [
    "data.transpose()"
   ]
  },
  {
   "cell_type": "code",
   "execution_count": 133,
   "id": "9dac50a1",
   "metadata": {},
   "outputs": [
    {
     "data": {
      "text/plain": [
       "Text(0, 0.5, 'Forces')"
      ]
     },
     "execution_count": 133,
     "metadata": {},
     "output_type": "execute_result"
    },
    {
     "data": {
      "image/png": "[encoded data removed]",
      "text/plain": [
       "<Figure size 432x288 with 1 Axes>"
      ]
     },
     "metadata": {},
     "output_type": "display_data"
    }
   ],
   "source": [
    "plt.style.use('ggplot')\n",
    "transposedata.T.plot(kind='bar')\n",
    "plt.ylabel('Forces')\n",
    "plt.savefig(\"../results/plot.png\")"
   ]
  }
 ],
 "metadata": {
  "kernelspec": {
   "display_name": "Python 3",
   "language": "python",
   "name": "python3"
  },
  "language_info": {
   "codemirror_mode": {
    "name": "ipython",
    "version": 3
   },
   "file_extension": ".py",
   "mimetype": "text/x-python",
   "name": "python",
   "nbconvert_exporter": "python",
   "pygments_lexer": "ipython3",
   "version": "3.8.8"
  }
 },
 "nbformat": 4,
 "nbformat_minor": 5
}
